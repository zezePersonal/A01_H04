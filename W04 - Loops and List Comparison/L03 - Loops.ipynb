{
 "cells": [
  {
   "cell_type": "markdown",
   "metadata": {},
   "source": [
    "16.02.20225 Pazar gunu"
   ]
  },
  {
   "cell_type": "markdown",
   "metadata": {},
   "source": [
    "# donguler ve list comparison"
   ]
  },
  {
   "cell_type": "markdown",
   "metadata": {},
   "source": [
    "Donguler, loops bazi kodlari yinelebilir bir sekilde yazmanin efektif bir yoludur."
   ]
  },
  {
   "cell_type": "code",
   "execution_count": 3,
   "metadata": {},
   "outputs": [
    {
     "name": "stdout",
     "output_type": "stream",
     "text": [
      "Static String 1\n",
      "Static String 2\n",
      "Static String 3\n",
      "Dynamic String 0\n",
      "Dynamic String 1\n",
      "Dynamic String 2\n"
     ]
    }
   ],
   "source": [
    "print(\"Static String 1\")\n",
    "print(\"Static String 2\")\n",
    "print(\"Static String 3\")  \n",
    "\n",
    "# yerine loop yapabiliriz\n",
    "\n",
    "for i in range(0,3):\n",
    "    print(f\"Dynamic String {i}\")"
   ]
  },
  {
   "cell_type": "code",
   "execution_count": 4,
   "metadata": {},
   "outputs": [],
   "source": [
    "# iterable ifadeler --> Bir liste bir string gibi sadece INDEX tutan tipler itreable nesnelerdir. Dongu yapilabilir kisaca. Bu ifadeler icerisinden islemler yapabilmek icin donguler kullanilir."
   ]
  },
  {
   "cell_type": "code",
   "execution_count": null,
   "metadata": {},
   "outputs": [
    {
     "name": "stdout",
     "output_type": "stream",
     "text": [
      "Merkur\n",
      "Venus\n"
     ]
    }
   ],
   "source": [
    "liste = []  # bos liste tanimi\n",
    "\n",
    "gezegenler = [\"Merkur\", \"Venus\", \"Dunya\", \"Mars\", \"Jupiter\", \"Saturn\", \"Uranus\", \"Neptun\"]\n",
    "\n",
    "# klasik yontemle liste elemanlarini yazdirma\n",
    "\n",
    "print(gezegenler[0])\n",
    "print(gezegenler[1])  # gibi n'e kadar yazilir\n"
   ]
  },
  {
   "cell_type": "code",
   "execution_count": null,
   "metadata": {},
   "outputs": [
    {
     "name": "stdout",
     "output_type": "stream",
     "text": [
      "Merkur\n",
      "Venus\n",
      "Dunya\n",
      "Mars\n",
      "Jupiter\n",
      "Saturn\n",
      "Uranus\n",
      "Neptun\n",
      "Merkur Venus Dunya Mars Jupiter Saturn Uranus Neptun "
     ]
    }
   ],
   "source": [
    "# dongu ile elemanlari yazdirirsak\n",
    "\n",
    "\n",
    "for gezegen in gezegenler:\n",
    "    print(gezegen)\n",
    "\n",
    "# gezegen degiskeni listeden ilk indexe eslenir, eger in keywordu o ilk indexte bir deger gorup true donerse dongu icin bloga girilir\n",
    "\n",
    "for gezegen in gezegenler:\n",
    "    print(gezegen, end = \" \")   # bu kullanim da var"
   ]
  },
  {
   "cell_type": "code",
   "execution_count": 13,
   "metadata": {},
   "outputs": [
    {
     "name": "stdout",
     "output_type": "stream",
     "text": [
      "2\n",
      "4\n",
      "8\n",
      "24\n",
      "72\n",
      "360\n"
     ]
    }
   ],
   "source": [
    "carpanlar = ()  # tupple tanimi\n",
    "\n",
    "carpanlar = (2,2,2,3,3,5)\n",
    "carpim = 1\n",
    "\n",
    "for carpan in carpanlar:\n",
    "    carpim = carpan * carpim\n",
    "    print(carpim)"
   ]
  },
  {
   "cell_type": "code",
   "execution_count": 19,
   "metadata": {},
   "outputs": [
    {
     "data": {
      "text/plain": [
       "<function str.index>"
      ]
     },
     "execution_count": 19,
     "metadata": {},
     "output_type": "execute_result"
    }
   ],
   "source": [
    "string = 'emre'\n",
    "string.index"
   ]
  },
  {
   "cell_type": "code",
   "execution_count": 17,
   "metadata": {},
   "outputs": [],
   "source": [
    "s = 'steganograpHy is the practicE of conceaLing a file, message, image, or video within another fiLe, message, image, Or video.'"
   ]
  },
  {
   "cell_type": "code",
   "execution_count": 22,
   "metadata": {},
   "outputs": [
    {
     "name": "stdout",
     "output_type": "stream",
     "text": [
      "HELLO"
     ]
    }
   ],
   "source": [
    "msg = \"\"\n",
    "\n",
    "for karakter in s:\n",
    "    if karakter.isupper():\n",
    "        print(karakter, end=\"\")\n"
   ]
  },
  {
   "cell_type": "code",
   "execution_count": 30,
   "metadata": {},
   "outputs": [
    {
     "name": "stdout",
     "output_type": "stream",
     "text": [
      "0 1 2 3 4 5 6 7 8 9 0_1_2_3_4_5_6_7_8_9_"
     ]
    }
   ],
   "source": [
    "# RANGE\n",
    "\n",
    "# Her zaman elinde iterable bir yapi olmak zorunda degil. Bu durumda dongu baslatabilmek icin sayi dogurusu gerekmektedir. range() fonksiyonu bu sayi dogrusunu getirir. \n",
    "# ornek 1 ile 10 arasi bir dongu yaratmak istersek\n",
    "\n",
    "for i in range(0,10):\n",
    "    print(i, end=\" \")\n",
    "\n",
    "for i in range(10):  # bu sekilde de yazilabilir, default'u belirtmeye gerek yok yani\n",
    "    print(i, end=\"_\")"
   ]
  },
  {
   "cell_type": "code",
   "execution_count": 35,
   "metadata": {},
   "outputs": [
    {
     "name": "stdout",
     "output_type": "stream",
     "text": [
      "0 indexindeki Emre\n",
      "1 indexindeki Ahmet\n",
      "2 indexindeki Mustafa\n",
      "1 indexindeki Ahmeti bulduk\n"
     ]
    }
   ],
   "source": [
    "names = [\"Emre\", \"Ahmet\", \"Mustafa\"]\n",
    "for i in range(len(names)):\n",
    "    print(f\"{i} indexindeki {names[i]}\")\n",
    "\n",
    "for i in range(len(names)):\n",
    "    if names[i] == \"Ahmet\":\n",
    "        print(f\"{i} indexindeki {names[i]}i bulduk\")"
   ]
  },
  {
   "cell_type": "code",
   "execution_count": 45,
   "metadata": {},
   "outputs": [
    {
     "name": "stdout",
     "output_type": "stream",
     "text": [
      "1 3 5 7 9 \n",
      "1 3 5 7 9 "
     ]
    }
   ],
   "source": [
    "sayilar = [1,2,3,4,5,6,7,8,9]\n",
    "\n",
    "# sadece tek sayilari ya da cift sayilari yazidrmak istersek\n",
    "\n",
    "for i in range(len(sayilar)):\n",
    "    if i % 2 == 0:\n",
    "        print(sayilar[i], end=\" \")\n",
    "\n",
    "print(\"\")\n",
    "\n",
    "for i in range(0,len(sayilar),2):\n",
    "    if i % 2 == 0:\n",
    "        print(sayilar[i], end=\" \")\n"
   ]
  },
  {
   "cell_type": "code",
   "execution_count": null,
   "metadata": {},
   "outputs": [
    {
     "name": "stdout",
     "output_type": "stream",
     "text": [
      "0 1 2 3 4 5 6 7 8 9 "
     ]
    }
   ],
   "source": [
    "# Donguler belirli ve belirsiz olarak ikiye ayrilir.\n",
    "\n",
    "# while dongusu\n",
    "# while dongusu belirlenen sartin true olarak saglandigi surece devam eden islemler icin kullanilir, false olarak dogndugu vakit dongu bitirilir\n",
    "\n",
    "i = 0\n",
    "while i < 10:\n",
    "    print(i, end= \" \")\n",
    "    i = i + 1  # i += 1 seklinde de yazilabilir"
   ]
  },
  {
   "cell_type": "code",
   "execution_count": null,
   "metadata": {},
   "outputs": [
    {
     "name": "stdout",
     "output_type": "stream",
     "text": [
      "0 1 2 3 4 "
     ]
    }
   ],
   "source": [
    "# break ve continue\n",
    "\n",
    "i = 0\n",
    "while i < 10:\n",
    "    print(i, end= \" \")\n",
    "    i = i + 1 \n",
    "    if i == 5:\n",
    "        break"
   ]
  },
  {
   "cell_type": "code",
   "execution_count": 53,
   "metadata": {},
   "outputs": [
    {
     "name": "stdout",
     "output_type": "stream",
     "text": [
      "1 2 3 4 6 7 8 9 10 "
     ]
    }
   ],
   "source": [
    "i = 0\n",
    "while i < 10:\n",
    "    i = i + 1 \n",
    "    if i == 5:  # 5i atladi, asagi kod blogu pass gecildi\n",
    "        continue    \n",
    "    print(i, end= \" \")\n"
   ]
  },
  {
   "cell_type": "code",
   "execution_count": 54,
   "metadata": {},
   "outputs": [],
   "source": [
    "# Mola 14:03-14:25"
   ]
  },
  {
   "cell_type": "code",
   "execution_count": 59,
   "metadata": {},
   "outputs": [
    {
     "data": {
      "text/plain": [
       "\"\\n    List Comprehension python'da en cok kullanilan ve ozel ozelliklere sahip yapisidir. En kolay yoldan anlamak icin ornekleri inceleyelim.\\n    Liste uyumlu islemler demek aslinda\\n\""
      ]
     },
     "execution_count": 59,
     "metadata": {},
     "output_type": "execute_result"
    }
   ],
   "source": [
    "# List Comprehension\n",
    "\n",
    "# https://www.w3schools.com/python/python_lists_comprehension.asp\n",
    "\n",
    "'''\n",
    "    List Comprehension python'da en cok kullanilan ve ozel ozelliklere sahip yapisidir. En kolay yoldan anlamak icin ornekleri inceleyelim.\n",
    "    Liste uyumlu islemler demek aslinda\n",
    "'''"
   ]
  },
  {
   "cell_type": "code",
   "execution_count": 57,
   "metadata": {},
   "outputs": [
    {
     "name": "stdout",
     "output_type": "stream",
     "text": [
      "[0, 1, 4, 9, 16, 25, 36, 49, 64, 81]\n"
     ]
    }
   ],
   "source": [
    "kareler:list = []\n",
    "for n in range(10):\n",
    "    kareler.append(n**2)\n",
    "print(kareler)"
   ]
  },
  {
   "cell_type": "code",
   "execution_count": null,
   "metadata": {},
   "outputs": [
    {
     "name": "stdout",
     "output_type": "stream",
     "text": [
      "[0, 1, 4, 9, 16, 25, 36, 49, 64, 81]\n"
     ]
    }
   ],
   "source": [
    "# bunu list Comprehension ile yaparsak\n",
    "\n",
    "kareler2:list = [\n",
    "    n ** 2\n",
    "    for n in range(10)\n",
    "]\n",
    "\n",
    "print(kareler)"
   ]
  },
  {
   "cell_type": "code",
   "execution_count": 60,
   "metadata": {},
   "outputs": [],
   "source": [
    "# List comprehension ne zaman kullanilmalidir?\n",
    "# Eger liste icerisinde manipulasyon islemleri gerceklestirelecekse veya liste icerisinden bir islem yapilip sonuc cikarilacaksa list comparison kullanilabilir.\n",
    "# ne zaman kullanilmaz\n",
    "# eger liste icerisinde yapmak istedigin islem 2'den fazla kosul iceriyorsa ve ic ice donguler kullanilmak zorundaysa list comprehension kullanilmaz, cunku esnekligi buna yeterli degil.\n",
    "# zz: bu aslinda js'deki mapleme\n"
   ]
  },
  {
   "cell_type": "code",
   "execution_count": 61,
   "metadata": {},
   "outputs": [
    {
     "name": "stdout",
     "output_type": "stream",
     "text": [
      "['Venus', 'Dunya', 'Mars']\n"
     ]
    }
   ],
   "source": [
    "gezegenler = [\"Merkur\", \"Venus\", \"Dunya\", \"Mars\", \"Jupiter\", \"Saturn\", \"Uranus\", \"Neptun\"]\n",
    "kisa_gezegenler:list = [\n",
    "    gezegen\n",
    "    for gezegen in gezegenler\n",
    "    if len(gezegen) < 6\n",
    "]\n",
    "print(kisa_gezegenler)"
   ]
  },
  {
   "cell_type": "code",
   "execution_count": 62,
   "metadata": {},
   "outputs": [
    {
     "name": "stdout",
     "output_type": "stream",
     "text": [
      "['Merkur', 'Jupiter', 'Saturn', 'Uranus', 'Neptun']\n"
     ]
    }
   ],
   "source": [
    "gezegenler = [\"Merkur\", \"Venus\", \"Dunya\", \"Mars\", \"Jupiter\", \"Saturn\", \"Uranus\", \"Neptun\"]\n",
    "orta_gezegenler:list = [\n",
    "    gezegen\n",
    "    for gezegen in gezegenler\n",
    "    if len(gezegen) >= 6 and len(gezegen) < 10\n",
    "]\n",
    "print(orta_gezegenler)"
   ]
  },
  {
   "cell_type": "code",
   "execution_count": 63,
   "metadata": {},
   "outputs": [
    {
     "name": "stdout",
     "output_type": "stream",
     "text": [
      "['MERKURstr', 'JUPITERstr', 'SATURNstr', 'URANUSstr', 'NEPTUNstr']\n"
     ]
    }
   ],
   "source": [
    "gezegenler = [\"Merkur\", \"Venus\", \"Dunya\", \"Mars\", \"Jupiter\", \"Saturn\", \"Uranus\", \"Neptun\"]\n",
    "str_gezegenler:list = [\n",
    "    gezegen.upper() + 'str'\n",
    "    for gezegen in gezegenler\n",
    "    if len(gezegen) >= 6 and len(gezegen) < 10\n",
    "]\n",
    "print(str_gezegenler)"
   ]
  },
  {
   "cell_type": "code",
   "execution_count": 65,
   "metadata": {},
   "outputs": [
    {
     "name": "stdout",
     "output_type": "stream",
     "text": [
      "['emre', 'AHMET', 'SulEyman']\n",
      "['Emre', 'Ahmet', 'Suleyman']\n"
     ]
    }
   ],
   "source": [
    "isimler = ['emre', 'AHMET', 'SulEyman']\n",
    "\n",
    "print((isimler))\n",
    "\n",
    "newIsimler = [\n",
    "    isim.lower().capitalize()\n",
    "    for isim in isimler\n",
    "]\n",
    "print(newIsimler)"
   ]
  },
  {
   "cell_type": "code",
   "execution_count": 72,
   "metadata": {},
   "outputs": [
    {
     "name": "stdout",
     "output_type": "stream",
     "text": [
      "[True, True, False, True, True, True, True, True, True]\n"
     ]
    }
   ],
   "source": [
    "stokVerileri:list = [15, 10, 0, 6, 4, 7, 5, 9, 5]\n",
    "\n",
    "stokDurum = [\n",
    "    True\n",
    "    if stok > 0 else False\n",
    "    for stok in stokVerileri\n",
    "]\n",
    "\n",
    "print(stokDurum)"
   ]
  },
  {
   "cell_type": "code",
   "execution_count": 74,
   "metadata": {},
   "outputs": [],
   "source": [
    "# Ornek\n",
    "\n",
    "# List Comprehension min, max, sum, any gibi liste metodlari mevcuttur. List comprehension ile birlikte bu metodlari kullanarak list comprehension ciktisi olarak integer ya da float tipinde degerler alabiliriz."
   ]
  },
  {
   "cell_type": "code",
   "execution_count": 80,
   "metadata": {},
   "outputs": [
    {
     "name": "stdout",
     "output_type": "stream",
     "text": [
      "2\n"
     ]
    }
   ],
   "source": [
    "# bir listedeki negatif sayilari sayan ornek\n",
    "\n",
    "def countNegatives(nums:list):\n",
    "    '''\n",
    "        Verilen listedeki negatif sayilari sayan bir fonksiyon \n",
    "        nums -> sayi listesi\n",
    "    '''\n",
    "    return len([\n",
    "        num\n",
    "        for num in nums\n",
    "        if num < 0\n",
    "    ])\n",
    "\n",
    "aList = [1, -1, 2, -2]\n",
    "\n",
    "x = countNegatives(aList)\n",
    "print(x)"
   ]
  },
  {
   "cell_type": "code",
   "execution_count": null,
   "metadata": {},
   "outputs": [
    {
     "name": "stdout",
     "output_type": "stream",
     "text": [
      "2\n"
     ]
    }
   ],
   "source": [
    "# alternatif cozum, true \n",
    "\n",
    "def countNegatives(nums:list):\n",
    "    '''\n",
    "        Verilen listedeki negatif sayilari sayan bir fonksiyon \n",
    "        nums -> sayi listesi\n",
    "    '''\n",
    "    return sum([\n",
    "        num < 0\n",
    "        for num in nums\n",
    "        \n",
    "    ])\n",
    "\n",
    "aList = [1, -1, 2, -2]\n",
    "\n",
    "x = countNegatives(aList)\n",
    "print(x)"
   ]
  },
  {
   "cell_type": "code",
   "execution_count": null,
   "metadata": {},
   "outputs": [],
   "source": []
  }
 ],
 "metadata": {
  "kernelspec": {
   "display_name": "h04_venv",
   "language": "python",
   "name": "python3"
  },
  "language_info": {
   "codemirror_mode": {
    "name": "ipython",
    "version": 3
   },
   "file_extension": ".py",
   "mimetype": "text/x-python",
   "name": "python",
   "nbconvert_exporter": "python",
   "pygments_lexer": "ipython3",
   "version": "3.12.1"
  }
 },
 "nbformat": 4,
 "nbformat_minor": 2
}
