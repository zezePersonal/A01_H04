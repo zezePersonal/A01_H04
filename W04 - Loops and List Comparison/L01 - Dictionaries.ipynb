{
 "cells": [
  {
   "cell_type": "markdown",
   "metadata": {},
   "source": [
    "# Donguler ve List Comparison Haftasi"
   ]
  },
  {
   "cell_type": "markdown",
   "metadata": {},
   "source": [
    "## Dictionaries (Sozlukler)\n",
    "\n",
    "Klasik listelerde organize edemedgimiz verileri sozluk veri tipi ile organize edebiliriz. Eger bir veriyi, sembolize etmesi gereken bir field varsa bu durumda sozluk kullanilmasi gerektigi anlasilmalidir."
   ]
  },
  {
   "cell_type": "code",
   "execution_count": 19,
   "metadata": {},
   "outputs": [],
   "source": [
    "# Klasik liste ile sozlugu kiyaslayalim\n",
    "\n",
    "studentList = ['Emre', False, False, 23, ['Traveling', 'Gym', 'Boxing']]  # Veriyi ogranize etme, manipule etme sikintilari mevcuttur. Ornegin liste icinde liste.append\n",
    "\n",
    "studentDict = {\n",
    "    \"isim\":\"Emre\",\n",
    "    \"mezunMu\":False,\n",
    "    \"evliMi\":False,\n",
    "    \"yas\":23,\n",
    "    \"hobiler\":[\"Traveling\", \"Gym\", \"Boxing\"]\n",
    "}"
   ]
  },
  {
   "cell_type": "code",
   "execution_count": 7,
   "metadata": {},
   "outputs": [
    {
     "name": "stdout",
     "output_type": "stream",
     "text": [
      "['Emre', False, False, 23, ['Traveling', 'Gym', 'Boxing']]\n",
      "<class 'list'>\n"
     ]
    }
   ],
   "source": [
    "print(studentList)\n",
    "print(type(studentList))"
   ]
  },
  {
   "cell_type": "code",
   "execution_count": null,
   "metadata": {},
   "outputs": [
    {
     "name": "stdout",
     "output_type": "stream",
     "text": [
      "{'isim': 'Emre', 'mezunMu': False, 'evliMi': False, 'yas': 23, 'hoiler': ['Traveling', 'Gym', 'Boxing']}\n",
      "<class 'dict'>\n"
     ]
    }
   ],
   "source": [
    "print(studentDict)\n",
    "print(type(studentDict))\n",
    "\n",
    "'''\n",
    "    Klasik liste ile sozlukler arasindaki en buyuk fark \n",
    "        listelerde elemanlar index ile sembolize edilir\n",
    "        sozlukte ise keys ile sembolize edilir\n",
    "'''"
   ]
  },
  {
   "cell_type": "code",
   "execution_count": null,
   "metadata": {},
   "outputs": [
    {
     "ename": "KeyError",
     "evalue": "0",
     "output_type": "error",
     "traceback": [
      "\u001b[0;31m---------------------------------------------------------------------------\u001b[0m",
      "\u001b[0;31mKeyError\u001b[0m                                  Traceback (most recent call last)",
      "Cell \u001b[0;32mIn[16], line 3\u001b[0m\n\u001b[1;32m      1\u001b[0m studentList[\u001b[38;5;241m0\u001b[39m]  \u001b[38;5;66;03m# Listede bu sekilde index num ile cagirabilir iken, dict'de index ile cagiramazsin. key kullanilmasi lazim.\u001b[39;00m\n\u001b[0;32m----> 3\u001b[0m \u001b[43mstudentDict\u001b[49m\u001b[43m[\u001b[49m\u001b[38;5;241;43m0\u001b[39;49m\u001b[43m]\u001b[49m  \u001b[38;5;66;03m# yanlis kullanim\u001b[39;00m\n\u001b[1;32m      5\u001b[0m studentDict[\u001b[38;5;124m\"\u001b[39m\u001b[38;5;124mage\u001b[39m\u001b[38;5;124m\"\u001b[39m]\n",
      "\u001b[0;31mKeyError\u001b[0m: 0"
     ]
    }
   ],
   "source": [
    "studentList[0]  # Listede bu sekilde index num ile cagirabilir iken, dict'de index ile cagiramazsin. key kullanilmasi lazim.\n",
    "\n",
    "studentDict[0]  # yanlis kullanim\n"
   ]
  },
  {
   "cell_type": "code",
   "execution_count": null,
   "metadata": {},
   "outputs": [
    {
     "data": {
      "text/plain": [
       "['Traveling', 'Gym', 'Boxing']"
      ]
     },
     "execution_count": 20,
     "metadata": {},
     "output_type": "execute_result"
    }
   ],
   "source": [
    "studentDict[\"hobiler\"]  # dogru kullanim\n",
    "\n",
    "# Sozluklerde normalde bu sekilde cagirabilirken, sozluklerde degerlere ulasmada alternatif cozum daha cok kullaniliyor. box kullaniliyormus genelde"
   ]
  },
  {
   "cell_type": "code",
   "execution_count": null,
   "metadata": {},
   "outputs": [
    {
     "name": "stdout",
     "output_type": "stream",
     "text": [
      "Collecting python-box\n",
      "  Obtaining dependency information for python-box from https://files.pythonhosted.org/packages/ce/5d/76b4d6d0e41edb676a229f032848a1ecea166890fa8d501513ea1a030f4d/python_box-7.3.2-cp312-cp312-manylinux_2_17_x86_64.manylinux2014_x86_64.whl.metadata\n",
      "  Downloading python_box-7.3.2-cp312-cp312-manylinux_2_17_x86_64.manylinux2014_x86_64.whl.metadata (8.0 kB)\n",
      "Downloading python_box-7.3.2-cp312-cp312-manylinux_2_17_x86_64.manylinux2014_x86_64.whl (4.3 MB)\n",
      "\u001b[2K   \u001b[90m━━━━━━━━━━━━━━━━━━━━━━━━━━━━━━━━━━━━━━━━\u001b[0m \u001b[32m4.3/4.3 MB\u001b[0m \u001b[31m55.4 MB/s\u001b[0m eta \u001b[36m0:00:00\u001b[0m:00:01\u001b[0m00:01\u001b[0m\n",
      "\u001b[?25hInstalling collected packages: python-box\n",
      "Successfully installed python-box-7.3.2\n",
      "\n",
      "\u001b[1m[\u001b[0m\u001b[34;49mnotice\u001b[0m\u001b[1;39;49m]\u001b[0m\u001b[39;49m A new release of pip is available: \u001b[0m\u001b[31;49m23.2.1\u001b[0m\u001b[39;49m -> \u001b[0m\u001b[32;49m25.0.1\u001b[0m\n",
      "\u001b[1m[\u001b[0m\u001b[34;49mnotice\u001b[0m\u001b[1;39;49m]\u001b[0m\u001b[39;49m To update, run: \u001b[0m\u001b[32;49mpip install --upgrade pip\u001b[0m\n"
     ]
    }
   ],
   "source": [
    "\n",
    "#  !pip install python-box  # bu sekilde jupiterde direkt terminalsiz pip install yapilabiliyor ! kullanilarak"
   ]
  },
  {
   "cell_type": "code",
   "execution_count": 23,
   "metadata": {},
   "outputs": [],
   "source": [
    "from box import ConfigBox"
   ]
  },
  {
   "cell_type": "code",
   "execution_count": 28,
   "metadata": {},
   "outputs": [],
   "source": [
    "# studentDict.isim  # normal sartlarda isim olarak bu sekilde cagiramiyoruz\n",
    "\n",
    "studentBox = ConfigBox({\n",
    "    \"isim\":\"Emre\",\n",
    "    \"mezunMu\":False,\n",
    "    \"evliMi\":False,\n",
    "    \"yas\":23,\n",
    "    \"hobiler\":[\"Traveling\", \"Gym\", \"Boxing\"]\n",
    "})"
   ]
  },
  {
   "cell_type": "code",
   "execution_count": null,
   "metadata": {},
   "outputs": [
    {
     "data": {
      "text/plain": [
       "'Emre'"
      ]
     },
     "execution_count": 29,
     "metadata": {},
     "output_type": "execute_result"
    }
   ],
   "source": [
    "studentBox.isim  # boxing ozelligi sagolsun"
   ]
  },
  {
   "cell_type": "code",
   "execution_count": null,
   "metadata": {},
   "outputs": [
    {
     "name": "stdout",
     "output_type": "stream",
     "text": [
      "<class 'box.box_list.BoxList'>\n",
      "<class 'list'>\n"
     ]
    }
   ],
   "source": [
    "print(type(studentBox.hobiler))  # type boxlist oldu list yerine\n",
    "print(type(studentDict[\"hobiler\"]))  # type klasik list"
   ]
  },
  {
   "cell_type": "code",
   "execution_count": 33,
   "metadata": {},
   "outputs": [],
   "source": [
    "student:dict = {}   # bos sozluk \n",
    "studentBox:dict = ConfigBox({})   # bos sozluk config box ile"
   ]
  },
  {
   "cell_type": "code",
   "execution_count": 42,
   "metadata": {},
   "outputs": [],
   "source": [
    "# Klasik sozluge eleman ekleme\n",
    "\n",
    "student[\"isim\"] = \"Emre\"\n",
    "student[\"mezunmu\"] = False\n",
    "student[\"evlimi\"] = False\n",
    "student[\"yas\"] = 23\n",
    "student[\"hobiler\"] = [\"Travelling\", \"Gym\", \"Boxing\"]"
   ]
  },
  {
   "cell_type": "code",
   "execution_count": 43,
   "metadata": {},
   "outputs": [
    {
     "name": "stdout",
     "output_type": "stream",
     "text": [
      "{'isim': 'Emre', 'mezunmu': False, 'evlimi': False, 'yas': 23, 'hobiler': ['Travelling', 'Gym', 'Boxing']}\n"
     ]
    }
   ],
   "source": [
    "print(student)"
   ]
  },
  {
   "cell_type": "code",
   "execution_count": 49,
   "metadata": {},
   "outputs": [],
   "source": [
    "# ConfigBox ile olan bos sozluge eklersek\n",
    "\n",
    "studentBox.isim = \"Emre\"\n",
    "studentBox.mezunmu = False\n",
    "studentBox.evlimi = False\n",
    "studentBox.yas = 23\n",
    "studentBox.hobiler = [\"Travelling\", \"Gym\", \"Boxing\"]"
   ]
  },
  {
   "cell_type": "code",
   "execution_count": 50,
   "metadata": {},
   "outputs": [
    {
     "name": "stdout",
     "output_type": "stream",
     "text": [
      "{'isim': 'Emre', 'mezunmu': False, 'evlimi': False, 'yas': 23, 'hobiler': ['Travelling', 'Gym', 'Boxing']}\n"
     ]
    }
   ],
   "source": [
    "print(studentBox)"
   ]
  },
  {
   "cell_type": "code",
   "execution_count": 51,
   "metadata": {},
   "outputs": [],
   "source": [
    "# Dictonary ile keylerin tipleri varsayilan olarak stringdir. Istenirse degistirilebilir tabii."
   ]
  },
  {
   "cell_type": "code",
   "execution_count": null,
   "metadata": {},
   "outputs": [
    {
     "name": "stdout",
     "output_type": "stream",
     "text": [
      "{(0, 0): 'Origin', 1000: 'Bin', 3.141: 'Pi'}\n"
     ]
    }
   ],
   "source": [
    "mixed_dict:dict = {\n",
    "    (0,0): \"Origin\",\n",
    "    1000: \"Bin\",\n",
    "    3.141: \"Pi\"\n",
    "}\n",
    "\n",
    "print(mixed_dict)\n",
    "# Bu sekilde kullanilabilir, ama genelde kullanilmiyor."
   ]
  },
  {
   "cell_type": "code",
   "execution_count": 56,
   "metadata": {},
   "outputs": [
    {
     "name": "stdout",
     "output_type": "stream",
     "text": [
      "False\n",
      "True\n"
     ]
    }
   ],
   "source": [
    "# Dictonary tipinde veri guncelleme, manipulasyonu\n",
    "\n",
    "print(studentDict[\"mezunMu\"])\n",
    "studentDict[\"mezunMu\"] = True\n",
    "print(studentDict[\"mezunMu\"])"
   ]
  },
  {
   "cell_type": "code",
   "execution_count": 58,
   "metadata": {},
   "outputs": [
    {
     "data": {
      "text/plain": [
       "True"
      ]
     },
     "execution_count": 58,
     "metadata": {},
     "output_type": "execute_result"
    }
   ],
   "source": [
    "# ConfigBox'da ise\n",
    "\n",
    "studentBox.mezunmu\n",
    "studentBox.mezunmu = True\n",
    "studentBox.mezunmu "
   ]
  },
  {
   "cell_type": "code",
   "execution_count": 61,
   "metadata": {},
   "outputs": [
    {
     "name": "stdout",
     "output_type": "stream",
     "text": [
      "True\n",
      "False\n",
      "CocukSayisi yok\n"
     ]
    }
   ],
   "source": [
    "# Sozluk icerisindeki keyleri bu sekilde sorgulayabiliriz.\n",
    "\n",
    "print(\"yas\" in studentBox)\n",
    "print(\"cocukSayisi\" in studentBox)\n",
    "\n",
    "if \"cocukSayisi\" in studentBox:\n",
    "    print(\"CocukSayisi var\")\n",
    "else:\n",
    "    print(\"CocukSayisi yok\")"
   ]
  },
  {
   "cell_type": "code",
   "execution_count": null,
   "metadata": {},
   "outputs": [
    {
     "name": "stdout",
     "output_type": "stream",
     "text": [
      "True\n",
      "False\n",
      "CocukSayisi yok\n"
     ]
    }
   ],
   "source": [
    "# Box'da da dict'de de ayni davranis sergileniyor.\n",
    "\n",
    "print(\"yas\" in student)\n",
    "print(\"cocukSayisi\" in student)\n",
    "\n",
    "if \"cocukSayisi\" in student:\n",
    "    print(\"CocukSayisi var\")\n",
    "else:\n",
    "    print(\"CocukSayisi yok\")"
   ]
  },
  {
   "cell_type": "code",
   "execution_count": null,
   "metadata": {},
   "outputs": [
    {
     "data": {
      "text/plain": [
       "{'isim': 'Emre',\n",
       " 'mezunmu': False,\n",
       " 'evlimi': False,\n",
       " 'yas': 23,\n",
       " 'hobiler': ['Travelling', 'Gym', 'Boxing']}"
      ]
     },
     "execution_count": 64,
     "metadata": {},
     "output_type": "execute_result"
    }
   ],
   "source": [
    "# Dictionary icin hazir methodlar\n",
    "# clear, copy, items, keys, pop, update, values\n",
    "\n",
    "student.clear()  # sozlugun icini temizler, cok kullanilmazmis\n",
    "student2 = student.copy()  # cok kullanilirmis, yedek almada filan\n"
   ]
  },
  {
   "cell_type": "code",
   "execution_count": null,
   "metadata": {},
   "outputs": [
    {
     "name": "stdout",
     "output_type": "stream",
     "text": [
      "dict_items([('isim', 'Emre'), ('mezunmu', False), ('evlimi', False), ('yas', 23), ('hobiler', ['Travelling', 'Gym', 'Boxing'])])\n",
      "<class 'dict_items'>\n"
     ]
    }
   ],
   "source": [
    "print(student.items())  # itemlar tupple geldi\n",
    "print(type(student.items()))\n",
    "\n",
    "# items() arka palan matigi\n",
    "# 0nci index budur ('isim', 'Emre') gibi\n",
    "# 1nci index ('mezunmu', False)"
   ]
  },
  {
   "cell_type": "code",
   "execution_count": 71,
   "metadata": {},
   "outputs": [
    {
     "data": {
      "text/plain": [
       "dict_keys(['isim', 'mezunmu', 'evlimi', 'yas', 'hobiler'])"
      ]
     },
     "execution_count": 71,
     "metadata": {},
     "output_type": "execute_result"
    }
   ],
   "source": [
    "student.keys()"
   ]
  },
  {
   "cell_type": "code",
   "execution_count": 72,
   "metadata": {},
   "outputs": [
    {
     "data": {
      "text/plain": [
       "dict_values(['Emre', False, False, 23, ['Travelling', 'Gym', 'Boxing']])"
      ]
     },
     "execution_count": 72,
     "metadata": {},
     "output_type": "execute_result"
    }
   ],
   "source": [
    "student.values()"
   ]
  },
  {
   "cell_type": "code",
   "execution_count": 75,
   "metadata": {},
   "outputs": [
    {
     "data": {
      "text/plain": [
       "'Ahmet Hamdi'"
      ]
     },
     "execution_count": 75,
     "metadata": {},
     "output_type": "execute_result"
    }
   ],
   "source": [
    "# Update ve pop'a gelirsek\n",
    "\n",
    "student[\"isim\"]\n",
    "student.update({'isim':'Ahmet Hamdi'})\n",
    "student[\"isim\"]"
   ]
  },
  {
   "cell_type": "code",
   "execution_count": null,
   "metadata": {},
   "outputs": [
    {
     "data": {
      "text/plain": [
       "'siyah'"
      ]
     },
     "execution_count": 78,
     "metadata": {},
     "output_type": "execute_result"
    }
   ],
   "source": [
    "# pop ise remove ediyor\n",
    "\n",
    "student.pop('sacRengi','siyah')  # olmayan index"
   ]
  },
  {
   "cell_type": "code",
   "execution_count": 79,
   "metadata": {},
   "outputs": [
    {
     "data": {
      "text/plain": [
       "{'isim': 'Ahmet Hamdi',\n",
       " 'mezunmu': False,\n",
       " 'evlimi': False,\n",
       " 'yas': 23,\n",
       " 'hobiler': ['Travelling', 'Gym', 'Boxing']}"
      ]
     },
     "execution_count": 79,
     "metadata": {},
     "output_type": "execute_result"
    }
   ],
   "source": [
    "student"
   ]
  },
  {
   "cell_type": "code",
   "execution_count": null,
   "metadata": {},
   "outputs": [
    {
     "ename": "KeyError",
     "evalue": "'yas'",
     "output_type": "error",
     "traceback": [
      "\u001b[0;31m---------------------------------------------------------------------------\u001b[0m",
      "\u001b[0;31mKeyError\u001b[0m                                  Traceback (most recent call last)",
      "Cell \u001b[0;32mIn[82], line 1\u001b[0m\n\u001b[0;32m----> 1\u001b[0m \u001b[43mstudent\u001b[49m\u001b[38;5;241;43m.\u001b[39;49m\u001b[43mpop\u001b[49m\u001b[43m(\u001b[49m\u001b[38;5;124;43m'\u001b[39;49m\u001b[38;5;124;43myas\u001b[39;49m\u001b[38;5;124;43m'\u001b[39;49m\u001b[43m)\u001b[49m  \u001b[38;5;66;03m# olmayan index\u001b[39;00m\n",
      "\u001b[0;31mKeyError\u001b[0m: 'yas'"
     ]
    }
   ],
   "source": [
    "student.pop('yas')  # olan index"
   ]
  },
  {
   "cell_type": "code",
   "execution_count": 83,
   "metadata": {},
   "outputs": [
    {
     "data": {
      "text/plain": [
       "{'isim': 'Ahmet Hamdi',\n",
       " 'mezunmu': False,\n",
       " 'evlimi': False,\n",
       " 'hobiler': ['Travelling', 'Gym', 'Boxing']}"
      ]
     },
     "execution_count": 83,
     "metadata": {},
     "output_type": "execute_result"
    }
   ],
   "source": [
    "student"
   ]
  },
  {
   "cell_type": "code",
   "execution_count": null,
   "metadata": {},
   "outputs": [],
   "source": [
    "# MOLA 14:20 - 14:47"
   ]
  },
  {
   "cell_type": "code",
   "execution_count": null,
   "metadata": {},
   "outputs": [],
   "source": [
    "# bir de get() metodu var. value degerini almak icin kulanilir"
   ]
  },
  {
   "cell_type": "code",
   "execution_count": null,
   "metadata": {},
   "outputs": [
    {
     "data": {
      "text/plain": [
       "'Ahmet Hamdi'"
      ]
     },
     "execution_count": 86,
     "metadata": {},
     "output_type": "execute_result"
    }
   ],
   "source": [
    "student.get(\"evlimi\")\n",
    "student.get(\"isim\")\n",
    "\n",
    "# Simdi uygulamalara geciyoruz."
   ]
  },
  {
   "cell_type": "code",
   "execution_count": null,
   "metadata": {},
   "outputs": [],
   "source": []
  }
 ],
 "metadata": {
  "kernelspec": {
   "display_name": "h04_venv",
   "language": "python",
   "name": "python3"
  },
  "language_info": {
   "codemirror_mode": {
    "name": "ipython",
    "version": 3
   },
   "file_extension": ".py",
   "mimetype": "text/x-python",
   "name": "python",
   "nbconvert_exporter": "python",
   "pygments_lexer": "ipython3",
   "version": "3.12.1"
  }
 },
 "nbformat": 4,
 "nbformat_minor": 2
}
