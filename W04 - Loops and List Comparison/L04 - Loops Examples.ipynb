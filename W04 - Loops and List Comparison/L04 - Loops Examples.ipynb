{
 "cells": [
  {
   "cell_type": "markdown",
   "metadata": {},
   "source": [
    "# Uygulamalar"
   ]
  },
  {
   "cell_type": "markdown",
   "metadata": {},
   "source": [
    "# Soru 1"
   ]
  },
  {
   "cell_type": "code",
   "execution_count": 1,
   "metadata": {},
   "outputs": [
    {
     "name": "stdout",
     "output_type": "stream",
     "text": [
      "True\n"
     ]
    }
   ],
   "source": [
    "# Soru 1\n",
    "\n",
    "# Asagidaki kodun bugini bulun ve cozmeye calisin\n",
    "\n",
    "def hasLuckyNumber(nums:list):\n",
    "    '''\n",
    "    Verilmis herhangi bir listenin sansli sayilarini bulmaya calisir. Bu fonksiyon icin sansli sayimizin kriteri 7 ile tam bolunebilmesidir.\n",
    "    '''\n",
    "    for num in nums:\n",
    "        if num % 7 == 0:\n",
    "            return True\n",
    "        else:\n",
    "            False\n",
    "\n",
    "liste = hasLuckyNumber([8,34,49,25])\n",
    "print(liste)"
   ]
  },
  {
   "cell_type": "code",
   "execution_count": 24,
   "metadata": {},
   "outputs": [
    {
     "name": "stdout",
     "output_type": "stream",
     "text": [
      "True\n"
     ]
    }
   ],
   "source": [
    "def hasLuckyNumber(nums:list):\n",
    "    '''\n",
    "    Verilmis herhangi bir listenin sansli sayilarini bulmaya calisir. Bu fonksiyon icin sansli sayimizin kriteri 7 ile tam bolunebilmesidir.\n",
    "    '''\n",
    "    for num in nums:\n",
    "        if num % 7 == 0:\n",
    "            return True\n",
    "    return False\n",
    "        \n",
    "liste = hasLuckyNumber([8,34,49,25])\n",
    "print(liste)"
   ]
  },
  {
   "cell_type": "code",
   "execution_count": 34,
   "metadata": {},
   "outputs": [
    {
     "name": "stdout",
     "output_type": "stream",
     "text": [
      "True\n"
     ]
    }
   ],
   "source": [
    "# Soru 2\n",
    "\n",
    "# Bu fonksiyonu list comprehension ile yapiniz. any methodu\n",
    "\n",
    "# any([False, False, True, False]) seklinde kullanim. True dondurur\n",
    "\n",
    "def hasLuckyNumber(nums:list):\n",
    "    '''\n",
    "    Verilmis herhangi bir listenin sansli sayilarini bulmaya calisir. Bu fonksiyon icin sansli sayimizin kriteri 7 ile tam bolunebilmesidir.\n",
    "    '''\n",
    "    return any([\n",
    "        num % 7 == 0\n",
    "        for num in nums\n",
    "    ])\n",
    "        \n",
    "liste = hasLuckyNumber([8,34,49,25])\n",
    "print(liste)"
   ]
  },
  {
   "cell_type": "code",
   "execution_count": 35,
   "metadata": {},
   "outputs": [],
   "source": [
    "# Soru 3\n",
    "\n",
    "# python'da numpy ve pandas gibi kutuphaneler sayesinde listenin her el\n",
    "\n",
    "def elementwiseGreaterThan(L, thresh):\n",
    "    \"\"\"\n",
    "    L ile aynı uzunlukta bir liste döndürür. Burada i indeksindeki değer yani L[i] indeksi\n",
    "    thresh parametresinde verilen değerden büyükse True küçükse False Değer Döndürücek.\n",
    "    \n",
    "    >>>elementwiseGreaterThan([1,2,3,4], 2)\n",
    "    [False, False, True, True]\n",
    "    \"\"\"\n",
    "    pass"
   ]
  },
  {
   "cell_type": "code",
   "execution_count": 38,
   "metadata": {},
   "outputs": [
    {
     "name": "stdout",
     "output_type": "stream",
     "text": [
      "[False, False, True, True]\n"
     ]
    }
   ],
   "source": [
    "def elementwiseGreaterThan(L:list, thresh:int):\n",
    "    \"\"\"\n",
    "    L ile aynı uzunlukta bir liste döndürür. Burada i indeksindeki değer yani L[i] indeksi\n",
    "    thresh parametresinde verilen değerden büyükse True küçükse False Değer Döndürücek.\n",
    "    \n",
    "    >>>elementwiseGreaterThan([1,2,3,4], 2)\n",
    "    [False, False, True, True]\n",
    "    \"\"\"\n",
    "    return [\n",
    "        x>thresh\n",
    "        for x in L\n",
    "    ]\n",
    "\n",
    "a = elementwiseGreaterThan([1,2,3,4], 2)\n",
    "print(a)"
   ]
  },
  {
   "cell_type": "code",
   "execution_count": 39,
   "metadata": {},
   "outputs": [
    {
     "name": "stdout",
     "output_type": "stream",
     "text": [
      "[False, False, True, True]\n"
     ]
    }
   ],
   "source": [
    "# geleneksel yontem ile yaparsak\n",
    "\n",
    "\n",
    "def elementwiseGreaterThan(L:list, thresh:int):\n",
    "    \"\"\"\n",
    "    L ile aynı uzunlukta bir liste döndürür. Burada i indeksindeki değer yani L[i] indeksi\n",
    "    thresh parametresinde verilen değerden büyükse True küçükse False Değer Döndürücek.\n",
    "    \n",
    "    >>>elementwiseGreaterThan([1,2,3,4], 2)\n",
    "    [False, False, True, True]\n",
    "    \"\"\"\n",
    "    r = []\n",
    "    for x in L:\n",
    "        r.append(x>thresh)\n",
    "    return r\n",
    "\n",
    "a = elementwiseGreaterThan([1,2,3,4], 2)\n",
    "print(a)"
   ]
  },
  {
   "cell_type": "code",
   "execution_count": 40,
   "metadata": {},
   "outputs": [],
   "source": [
    "# Soru 4\n",
    "\n",
    "# Yemek menusunde ayni yemek varsa sikici\n",
    "\n",
    "def menuIsBoring(meals:list[str]):\n",
    "    \"\"\"\n",
    "        X\n",
    "    \"\"\""
   ]
  },
  {
   "cell_type": "code",
   "execution_count": 47,
   "metadata": {},
   "outputs": [
    {
     "name": "stdout",
     "output_type": "stream",
     "text": [
      "False\n"
     ]
    }
   ],
   "source": [
    "# geleneksel yontem\n",
    "\n",
    "def menuIsBoring(meals:list[str]):\n",
    "    \"\"\"\n",
    "        X\n",
    "    \"\"\"\n",
    "    for i in range(len(meals)):\n",
    "        if i > 0:\n",
    "            if meals[i]==meals[i-1]:\n",
    "                return True\n",
    "    return False\n",
    "\n",
    "menu = ['X', 'Z', 'Y']\n",
    "a = menuIsBoring(menu)\n",
    "print(a)"
   ]
  },
  {
   "cell_type": "code",
   "execution_count": 54,
   "metadata": {},
   "outputs": [
    {
     "name": "stdout",
     "output_type": "stream",
     "text": [
      "True\n"
     ]
    }
   ],
   "source": [
    "# comprehensive yontem\n",
    "\n",
    "def menuIsBoring(meals:list[str]):\n",
    "    \"\"\"\n",
    "        X\n",
    "    \"\"\"\n",
    "    return any([\n",
    "        meals[i]==meals[i+1]\n",
    "        for i in range(0,len(meals))\n",
    "        if i < len(meals)-1\n",
    "    ])\n",
    "\n",
    "menu = ['X', 'Y', 'Y']\n",
    "a = menuIsBoring(menu)\n",
    "print(a)"
   ]
  },
  {
   "cell_type": "code",
   "execution_count": null,
   "metadata": {},
   "outputs": [],
   "source": []
  }
 ],
 "metadata": {
  "kernelspec": {
   "display_name": "h04_venv",
   "language": "python",
   "name": "python3"
  },
  "language_info": {
   "codemirror_mode": {
    "name": "ipython",
    "version": 3
   },
   "file_extension": ".py",
   "mimetype": "text/x-python",
   "name": "python",
   "nbconvert_exporter": "python",
   "pygments_lexer": "ipython3",
   "version": "3.12.1"
  }
 },
 "nbformat": 4,
 "nbformat_minor": 2
}
