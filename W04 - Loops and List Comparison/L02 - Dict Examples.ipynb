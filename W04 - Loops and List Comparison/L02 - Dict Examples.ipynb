{
 "cells": [
  {
   "cell_type": "markdown",
   "metadata": {},
   "source": [
    "## Sozluk icin uygulamalar"
   ]
  },
  {
   "cell_type": "code",
   "execution_count": null,
   "metadata": {},
   "outputs": [
    {
     "data": {
      "text/plain": [
       "'\\n    Soru 1\\n\\n    Telefon rehberindeki isimleri ve telefon numaralarini aliniz.\\n'"
      ]
     },
     "execution_count": 2,
     "metadata": {},
     "output_type": "execute_result"
    }
   ],
   "source": [
    "'''\n",
    "    Soru 1\n",
    "\n",
    "    Telefon rehberindeki isimleri ve telefon numaralarini aliniz. Key 'isim' olsun, value telefon numarasi olsun. Bir kisinin telefon numarasini getiriniz.\n",
    "'''"
   ]
  },
  {
   "cell_type": "markdown",
   "metadata": {},
   "source": []
  },
  {
   "cell_type": "code",
   "execution_count": 3,
   "metadata": {},
   "outputs": [],
   "source": [
    "from box import ConfigBox"
   ]
  },
  {
   "cell_type": "code",
   "execution_count": 4,
   "metadata": {},
   "outputs": [],
   "source": [
    "phoneDict:dict = ConfigBox({\n",
    "    \"Ahmet\":1234567890,\n",
    "    \"Mehmet\":2345678901,\n",
    "    \"Hamdi\":3456789012\n",
    "})"
   ]
  },
  {
   "cell_type": "code",
   "execution_count": 5,
   "metadata": {},
   "outputs": [
    {
     "name": "stdout",
     "output_type": "stream",
     "text": [
      "1234567890\n"
     ]
    }
   ],
   "source": [
    "ahmetNo = phoneDict.Ahmet\n",
    "print(ahmetNo)"
   ]
  },
  {
   "cell_type": "code",
   "execution_count": null,
   "metadata": {},
   "outputs": [
    {
     "data": {
      "text/plain": [
       "'\\n    Soru 2\\n\\n    Bir siniftaki ogrencilerin isimlerini keys olarak alin ve 0-100 arasindaki aldigi puanlari values olarak atayiniz.\\n'"
      ]
     },
     "execution_count": 6,
     "metadata": {},
     "output_type": "execute_result"
    }
   ],
   "source": [
    "'''\n",
    "    Soru 2\n",
    "\n",
    "    Bir siniftaki ogrencilerin isimlerini keys olarak alin ve 0-100 arasindaki aldigi puanlari values olarak atayiniz. Ve sinifin not ortalamasini hesaplayip yazdiriniz\n",
    "'''"
   ]
  },
  {
   "cell_type": "code",
   "execution_count": 17,
   "metadata": {},
   "outputs": [
    {
     "name": "stdout",
     "output_type": "stream",
     "text": [
      "150 3 50.0\n",
      "3 kisilik sinifimizda ortalama score 50.0 dir.\n"
     ]
    }
   ],
   "source": [
    "classList:dict = ConfigBox({\n",
    "    \"Ahmet\":100,\n",
    "    \"Mehmet\":0,\n",
    "    \"Hamdi\":50\n",
    "})\n",
    "\n",
    "s = 0\n",
    "j = 0\n",
    "for studentScore in classList.values():\n",
    "    j = j + 1\n",
    "    s = s + studentScore\n",
    "\n",
    "avg = s / j\n",
    "print(s, j, avg)\n",
    "print(f\"{j} kisilik sinifimizda ortalama score {avg} dir.\")"
   ]
  },
  {
   "cell_type": "code",
   "execution_count": null,
   "metadata": {},
   "outputs": [
    {
     "data": {
      "text/plain": [
       "'\\n    Soru 3\\n\\n    Bir magazada bulunan stok miktarlarini ve fiyatlarini bir sozluk icinde tutun ve belirli bir urunun \\n'"
      ]
     },
     "execution_count": 18,
     "metadata": {},
     "output_type": "execute_result"
    }
   ],
   "source": [
    "'''\n",
    "    Soru 3\n",
    "\n",
    "    Bir magazada bulunan stok miktarlarini ve fiyatlarini bir sozluk icinde tutun ve belirli bir urunun fiyat bilgisine erisin.\n",
    "'''"
   ]
  },
  {
   "cell_type": "code",
   "execution_count": 23,
   "metadata": {},
   "outputs": [
    {
     "name": "stdout",
     "output_type": "stream",
     "text": [
      "10\n"
     ]
    },
    {
     "data": {
      "text/plain": [
       "15000.0"
      ]
     },
     "execution_count": 23,
     "metadata": {},
     "output_type": "execute_result"
    }
   ],
   "source": [
    "productList:dict = ConfigBox({\n",
    "    \"laptop\":{\"stok\":10, \"fiyat\":15000.},\n",
    "    \"telefon\":{\"stok\":1, \"fiyat\":99232.2},\n",
    "    \"kulaklik\":{\"stok\":5, \"fiyat\":12000.},\n",
    "})\n",
    "\n",
    "aLaptop = productList.laptop\n",
    "print(aLaptop.stok)\n",
    "\n",
    "# Klasik usul cagirmak istersek\n",
    "productList[\"laptop\"][\"fiyat\"]"
   ]
  },
  {
   "cell_type": "code",
   "execution_count": null,
   "metadata": {},
   "outputs": [
    {
     "data": {
      "text/plain": [
       "'\\n\\n    Soru 4\\n\\n    Kullanici profili yonetimi\\n    Bir uygulamada kullanici bilgileri saklamak ve yonetmke icin sozluk kullaniyorsunuz.\\n\\n'"
      ]
     },
     "execution_count": 24,
     "metadata": {},
     "output_type": "execute_result"
    }
   ],
   "source": [
    "'''\n",
    "\n",
    "    Soru 4\n",
    "\n",
    "    Kullanici profili yonetimi\n",
    "    Bir uygulamada kullanici bilgileri saklamak ve yonetmek icin sozluk kullaniyorsunuz.\n",
    "\n",
    "    User2'nin yasadigi sehiri baska bir sehir ile guncelleyin, ve user1 in ismini mahmut olarak degistirin\n",
    "\n",
    "'''"
   ]
  },
  {
   "cell_type": "code",
   "execution_count": 30,
   "metadata": {},
   "outputs": [
    {
     "name": "stdout",
     "output_type": "stream",
     "text": [
      "{'user1': {'isim': 'Ahmet', 'yas': 34, 'sehir': 'Istanbul'}, 'user2': {'isim': 'Mehmet', 'yas': 23, 'sehir': 'Ankara'}, 'user3': {'isim': 'Sinasi', 'yas': 47, 'sehir': 'Eskisehir'}}\n",
      "{'isim': 'Mehmet', 'yas': 23, 'sehir': 'Sinop'}\n",
      "{'isim': 'Mahmut', 'yas': 34, 'sehir': 'Istanbul'}\n"
     ]
    }
   ],
   "source": [
    "users:dict = ConfigBox({\n",
    "    \"user1\":{\"isim\":\"Ahmet\", \"yas\":34, \"sehir\":\"Istanbul\"},\n",
    "    \"user2\":{\"isim\":\"Mehmet\", \"yas\":23, \"sehir\":\"Ankara\"},\n",
    "    \"user3\":{\"isim\":\"Sinasi\", \"yas\":47, \"sehir\":\"Eskisehir\"},\n",
    "})\n",
    "\n",
    "print(users)\n",
    "\n",
    "users.user2.sehir = \"Sinop\"\n",
    "print(users.user2)\n",
    "\n",
    "users.user1.isim = \"Mahmut\"\n",
    "print(users.user1)"
   ]
  },
  {
   "cell_type": "code",
   "execution_count": null,
   "metadata": {},
   "outputs": [
    {
     "ename": "ValueError",
     "evalue": "too many values to unpack (expected 2)",
     "output_type": "error",
     "traceback": [
      "\u001b[0;31m---------------------------------------------------------------------------\u001b[0m",
      "\u001b[0;31mValueError\u001b[0m                                Traceback (most recent call last)",
      "Cell \u001b[0;32mIn[31], line 1\u001b[0m\n\u001b[0;32m----> 1\u001b[0m \u001b[43musers\u001b[49m\u001b[38;5;241;43m.\u001b[39;49m\u001b[43muser1\u001b[49m\u001b[38;5;241;43m.\u001b[39;49m\u001b[43mupdate\u001b[49m\u001b[43m(\u001b[49m\u001b[43m{\u001b[49m\u001b[38;5;124;43m'\u001b[39;49m\u001b[38;5;124;43misim\u001b[39;49m\u001b[38;5;124;43m'\u001b[39;49m\u001b[43m,\u001b[49m\u001b[43m \u001b[49m\u001b[38;5;124;43m'\u001b[39;49m\u001b[38;5;124;43mMelek\u001b[39;49m\u001b[38;5;124;43m'\u001b[39;49m\u001b[43m}\u001b[49m\u001b[43m)\u001b[49m\n",
      "File \u001b[0;32m/workspaces/A01_H04/h04_venv/lib/python3.12/site-packages/box/box.py:825\u001b[0m, in \u001b[0;36mbox.box.Box.update\u001b[0;34m()\u001b[0m\n",
      "\u001b[0;31mValueError\u001b[0m: too many values to unpack (expected 2)"
     ]
    }
   ],
   "source": [
    "users.user1.update({'isim', 'Melek'})  # gibi de guncellenebiliyor"
   ]
  },
  {
   "cell_type": "code",
   "execution_count": null,
   "metadata": {},
   "outputs": [],
   "source": []
  }
 ],
 "metadata": {
  "kernelspec": {
   "display_name": "h04_venv",
   "language": "python",
   "name": "python3"
  },
  "language_info": {
   "codemirror_mode": {
    "name": "ipython",
    "version": 3
   },
   "file_extension": ".py",
   "mimetype": "text/x-python",
   "name": "python",
   "nbconvert_exporter": "python",
   "pygments_lexer": "ipython3",
   "version": "3.12.1"
  }
 },
 "nbformat": 4,
 "nbformat_minor": 2
}
